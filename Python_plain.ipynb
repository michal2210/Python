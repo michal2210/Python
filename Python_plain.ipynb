{
 "cells": [
  {
   "cell_type": "markdown",
   "id": "c8ae543a",
   "metadata": {},
   "source": [
    "## Real-World Examples of Python Basics\n",
    "\n",
    "## Course Introduction\n",
    "Welcome to the Python course! This course is designed for beginners with no prior programming experience.\n",
    "By the end of this course, you will understand Python fundamentals, how to work with libraries, and how to apply Python to practical tasks."
   ]
  },
  {
   "cell_type": "markdown",
   "id": "5e375fa4",
   "metadata": {},
   "source": [
    "## 1. Hello, World!\n",
    "The first program every beginner writes is \"Hello, World!\".\n",
    "It demonstrates how to use the print() function."
   ]
  },
  {
   "cell_type": "code",
   "execution_count": null,
   "id": "5da08942",
   "metadata": {},
   "outputs": [],
   "source": []
  },
  {
   "cell_type": "markdown",
   "id": "f0cd4d7f",
   "metadata": {},
   "source": [
    "## 2. Variables and Data Types\n",
    "Variables are used to store data. Python supports various data types such as strings, integers, and booleans."
   ]
  },
  {
   "cell_type": "code",
   "execution_count": null,
   "id": "148cff28",
   "metadata": {},
   "outputs": [],
   "source": []
  },
  {
   "cell_type": "markdown",
   "id": "abd9c4ae",
   "metadata": {},
   "source": [
    "## 3. Arithmetic Operations\n",
    "Python can perform basic arithmetic operations like addition, subtraction, multiplication, and division."
   ]
  },
  {
   "cell_type": "code",
   "execution_count": null,
   "id": "dae0776a",
   "metadata": {},
   "outputs": [],
   "source": []
  },
  {
   "cell_type": "markdown",
   "id": "cd1c03e7",
   "metadata": {},
   "source": [
    "## 4. Input from the User\n",
    "Python's input() function allows you to collect input from the user."
   ]
  },
  {
   "cell_type": "code",
   "execution_count": null,
   "id": "f986d42f",
   "metadata": {},
   "outputs": [],
   "source": []
  },
  {
   "cell_type": "markdown",
   "id": "5fad48b1",
   "metadata": {},
   "source": [
    "## 5. Conditional Statements\n",
    "Use if-else statements to execute code based on a condition."
   ]
  },
  {
   "cell_type": "code",
   "execution_count": null,
   "id": "6b01afd9",
   "metadata": {},
   "outputs": [],
   "source": []
  },
  {
   "cell_type": "markdown",
   "id": "dae9b921",
   "metadata": {},
   "source": [
    "## 6. Looping with for\n",
    "Use a for loop to iterate over a sequence."
   ]
  },
  {
   "cell_type": "code",
   "execution_count": null,
   "id": "1061c9de",
   "metadata": {},
   "outputs": [],
   "source": []
  },
  {
   "cell_type": "markdown",
   "id": "3e957ee9",
   "metadata": {},
   "source": [
    "## 7. Looping with while\n",
    "Use a while loop to repeat an action until a condition is no longer true."
   ]
  },
  {
   "cell_type": "code",
   "execution_count": null,
   "id": "8a0843d3",
   "metadata": {},
   "outputs": [],
   "source": []
  },
  {
   "cell_type": "markdown",
   "id": "9de3579e",
   "metadata": {},
   "source": [
    "## 8. Defining Functions\n",
    "Functions allow you to reuse code and make programs modular."
   ]
  },
  {
   "cell_type": "code",
   "execution_count": null,
   "id": "80e2aa51",
   "metadata": {},
   "outputs": [],
   "source": []
  },
  {
   "cell_type": "markdown",
   "id": "9e17e3bc",
   "metadata": {},
   "source": [
    "## 9. Lists\n",
    "Lists are used to store multiple items in a single variable."
   ]
  },
  {
   "cell_type": "code",
   "execution_count": null,
   "id": "ba827626",
   "metadata": {},
   "outputs": [],
   "source": []
  },
  {
   "cell_type": "markdown",
   "id": "3f2bd5a3",
   "metadata": {},
   "source": [
    "## 10. Dictionaries\n",
    "Dictionaries store data in key-value pairs."
   ]
  },
  {
   "cell_type": "code",
   "execution_count": null,
   "id": "eb80e8bd",
   "metadata": {},
   "outputs": [],
   "source": []
  },
  {
   "cell_type": "markdown",
   "id": "af19e6ef",
   "metadata": {},
   "source": [
    "## 11. Working with Sets\n",
    "Sets are collections of unique elements."
   ]
  },
  {
   "cell_type": "code",
   "execution_count": null,
   "id": "6401f371",
   "metadata": {},
   "outputs": [],
   "source": []
  },
  {
   "cell_type": "markdown",
   "id": "3aaad2e1",
   "metadata": {},
   "source": [
    "## 12. Generating Random Data\n",
    "Python can generate random numbers for simulations or testing."
   ]
  },
  {
   "cell_type": "code",
   "execution_count": null,
   "id": "408dc3ce",
   "metadata": {},
   "outputs": [],
   "source": []
  },
  {
   "cell_type": "markdown",
   "id": "bebf1d71",
   "metadata": {},
   "source": [
    "## 13. Simple Timer\n",
    "Python's time module can delay execution, useful for automation."
   ]
  },
  {
   "cell_type": "code",
   "execution_count": null,
   "id": "9c9934c3",
   "metadata": {},
   "outputs": [],
   "source": []
  },
  {
   "cell_type": "markdown",
   "id": "4e4af90f",
   "metadata": {},
   "source": [
    "## 14. NumPy Basics\n",
    "NumPy is a library for numerical computing, offering efficient array operations."
   ]
  },
  {
   "cell_type": "code",
   "execution_count": null,
   "id": "4d9fb9a9",
   "metadata": {},
   "outputs": [],
   "source": []
  },
  {
   "cell_type": "markdown",
   "id": "e2a4fbde",
   "metadata": {},
   "source": [
    "## 15. Pandas DataFrame\n",
    "Pandas simplifies working with tabular data."
   ]
  },
  {
   "cell_type": "code",
   "execution_count": null,
   "id": "1e76d56d",
   "metadata": {},
   "outputs": [],
   "source": []
  },
  {
   "cell_type": "markdown",
   "id": "c9af8763",
   "metadata": {},
   "source": [
    "## 16. DataFrame Operations\n",
    "Perform calculations and filtering with DataFrames."
   ]
  },
  {
   "cell_type": "code",
   "execution_count": null,
   "id": "860b3ee8",
   "metadata": {},
   "outputs": [],
   "source": []
  },
  {
   "cell_type": "code",
   "execution_count": null,
   "id": "10b6043a",
   "metadata": {},
   "outputs": [],
   "source": []
  },
  {
   "cell_type": "markdown",
   "id": "78c641d2",
   "metadata": {},
   "source": [
    "## 18. Interactive Scatter Plot\n",
    "Add labels, legends, and grids to make charts more informative."
   ]
  },
  {
   "cell_type": "code",
   "execution_count": null,
   "id": "526aa2d9",
   "metadata": {},
   "outputs": [],
   "source": []
  },
  {
   "cell_type": "markdown",
   "id": "38ed2971",
   "metadata": {},
   "source": [
    "## 19. Basic Regex Usage\n",
    "Regular expressions are used to search and manipulate text."
   ]
  },
  {
   "cell_type": "code",
   "execution_count": null,
   "id": "c68788f9",
   "metadata": {},
   "outputs": [],
   "source": []
  },
  {
   "cell_type": "markdown",
   "id": "681c2001",
   "metadata": {},
   "source": [
    "## 20. Sorting Dictionaries\n",
    "Sort a dictionary by its values."
   ]
  },
  {
   "cell_type": "code",
   "execution_count": null,
   "id": "96d9bf81",
   "metadata": {},
   "outputs": [],
   "source": []
  },
  {
   "cell_type": "markdown",
   "id": "e79ee114",
   "metadata": {},
   "source": [
    "## 21. Combining Everything\n",
    "A complete example combining data analysis and visualization."
   ]
  },
  {
   "cell_type": "code",
   "execution_count": null,
   "id": "2cbb6ee4",
   "metadata": {},
   "outputs": [],
   "source": []
  },
  {
   "cell_type": "markdown",
   "id": "574c7557",
   "metadata": {},
   "source": [
    "## 22. NumPy Random Array\n",
    "Demonstrating random array generation and operations in NumPy."
   ]
  },
  {
   "cell_type": "code",
   "execution_count": null,
   "id": "85be3496",
   "metadata": {},
   "outputs": [],
   "source": []
  },
  {
   "cell_type": "markdown",
   "id": "0860d815",
   "metadata": {},
   "source": [
    "## 23. Filtering Data with Pandas\n",
    "Learn to filter data and analyze it with Pandas."
   ]
  },
  {
   "cell_type": "code",
   "execution_count": null,
   "id": "ec9e5ed0",
   "metadata": {},
   "outputs": [],
   "source": []
  },
  {
   "cell_type": "markdown",
   "id": "163ba2b2",
   "metadata": {},
   "source": [
    "## 24. Simple Boolean Logic\n",
    "Explore the use of Boolean conditions and logical operators."
   ]
  },
  {
   "cell_type": "code",
   "execution_count": null,
   "id": "1985f0e0",
   "metadata": {},
   "outputs": [],
   "source": []
  },
  {
   "cell_type": "markdown",
   "id": "a887c5b4",
   "metadata": {},
   "source": [
    "## 25. Data Visualization with Pandas\n",
    "Using Pandas for quick and simple visualizations."
   ]
  },
  {
   "cell_type": "code",
   "execution_count": null,
   "id": "d7103dd2",
   "metadata": {},
   "outputs": [],
   "source": []
  },
  {
   "cell_type": "markdown",
   "id": "5f07a811",
   "metadata": {},
   "source": [
    "## 26. Advanced String Manipulation\n",
    "Explore string methods for cleaning and processing data."
   ]
  },
  {
   "cell_type": "code",
   "execution_count": null,
   "id": "e905a7a4",
   "metadata": {},
   "outputs": [],
   "source": []
  },
  {
   "cell_type": "markdown",
   "id": "5d8af48d",
   "metadata": {},
   "source": [
    "## 27. Advanced Data Filtering\n",
    "Learn to filter complex conditions in Pandas."
   ]
  },
  {
   "cell_type": "code",
   "execution_count": null,
   "id": "b7436114",
   "metadata": {},
   "outputs": [],
   "source": []
  },
  {
   "cell_type": "markdown",
   "id": "e393abee",
   "metadata": {},
   "source": [
    "## 28. Data Analysis with Grouping\n",
    "Group data and calculate aggregates."
   ]
  },
  {
   "cell_type": "code",
   "execution_count": null,
   "id": "bdf88d77",
   "metadata": {},
   "outputs": [],
   "source": []
  },
  {
   "cell_type": "markdown",
   "id": "886c16c0",
   "metadata": {},
   "source": [
    "## 29. Data Merging in Pandas\n",
    "Combine two datasets into one."
   ]
  },
  {
   "cell_type": "code",
   "execution_count": null,
   "id": "581d1206",
   "metadata": {},
   "outputs": [],
   "source": []
  },
  {
   "cell_type": "markdown",
   "id": "6518f586",
   "metadata": {},
   "source": [
    "## 30. Creating Pie Chart\n",
    "Visualize data distribution using a pie chart."
   ]
  },
  {
   "cell_type": "code",
   "execution_count": null,
   "id": "ddc214a1",
   "metadata": {},
   "outputs": [],
   "source": []
  },
  {
   "cell_type": "markdown",
   "id": "aa2c4726",
   "metadata": {},
   "source": [
    "# Congratulations on completing the Python course examples!"
   ]
  }
 ],
 "metadata": {
  "kernelspec": {
   "display_name": "MyPythonNovember24",
   "language": "python",
   "name": "python3"
  },
  "language_info": {
   "codemirror_mode": {
    "name": "ipython",
    "version": 3
   },
   "file_extension": ".py",
   "mimetype": "text/x-python",
   "name": "python",
   "nbconvert_exporter": "python",
   "pygments_lexer": "ipython3",
   "version": "3.12.3"
  }
 },
 "nbformat": 4,
 "nbformat_minor": 5
}
