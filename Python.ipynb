{
  "cells": [
    {
      "cell_type": "markdown",
      "id": "c8ae543a",
      "metadata": {
        "id": "c8ae543a"
      },
      "source": [
        "## Real-World Examples of Python Basics\n",
        "\n",
        "## Course Introduction\n",
        "Welcome to the Python course! This course is designed for beginners with no prior programming experience.\n",
        "By the end of this course, you will understand Python fundamentals, how to work with libraries, and how to apply Python to practical tasks."
      ]
    },
    {
      "cell_type": "markdown",
      "id": "5e375fa4",
      "metadata": {
        "id": "5e375fa4"
      },
      "source": [
        "## 1. Hello, World!\n",
        "The first program every beginner writes is \"Hello, World!\".\n",
        "It demonstrates how to use the print() function."
      ]
    },
    {
      "cell_type": "code",
      "execution_count": null,
      "id": "5da08942",
      "metadata": {
        "id": "5da08942"
      },
      "outputs": [],
      "source": [
        "print(\"Hello, Python!\")"
      ]
    },
    {
      "cell_type": "markdown",
      "id": "f0cd4d7f",
      "metadata": {
        "id": "f0cd4d7f"
      },
      "source": [
        "## 2. Variables and Data Types\n",
        "Variables are used to store data. Python supports various data types such as strings, integers, and booleans."
      ]
    },
    {
      "cell_type": "code",
      "execution_count": null,
      "id": "148cff28",
      "metadata": {
        "id": "148cff28"
      },
      "outputs": [],
      "source": [
        "name = \"Alice\"  # String\n",
        "age = 26         # Integer\n",
        "is_student = False  # Boolean\n",
        "\n",
        "print(f\"Name: {name}, Age: {age}, Is Student: {is_student}\")"
      ]
    },
    {
      "cell_type": "markdown",
      "id": "abd9c4ae",
      "metadata": {
        "id": "abd9c4ae"
      },
      "source": [
        "## 3. Arithmetic Operations\n",
        "Python can perform basic arithmetic operations like addition, subtraction, multiplication, and division."
      ]
    },
    {
      "cell_type": "code",
      "execution_count": null,
      "id": "dae0776a",
      "metadata": {
        "id": "dae0776a"
      },
      "outputs": [],
      "source": [
        "a = 10\n",
        "b = 3\n",
        "print(a + b)\n",
        "print(\"Subtraction:\", a - b)\n",
        "print(\"Multiplication:\", a * b)\n",
        "print(\"Division:\", a / b)\n",
        "x=a+b\n",
        "print(x)"
      ]
    },
    {
      "cell_type": "markdown",
      "id": "cd1c03e7",
      "metadata": {
        "id": "cd1c03e7"
      },
      "source": [
        "## 4. Input from the User\n",
        "Python's input() function allows you to collect input from the user."
      ]
    },
    {
      "cell_type": "code",
      "execution_count": null,
      "id": "f986d42f",
      "metadata": {
        "id": "f986d42f"
      },
      "outputs": [],
      "source": [
        "name = input(\"What is your name? \")\n",
        "print(f\"Hello, {name}\")"
      ]
    },
    {
      "cell_type": "markdown",
      "id": "5fad48b1",
      "metadata": {
        "id": "5fad48b1"
      },
      "source": [
        "## 5. Conditional Statements\n",
        "Use if-else statements to execute code based on a condition."
      ]
    },
    {
      "cell_type": "code",
      "execution_count": null,
      "id": "6b01afd9",
      "metadata": {
        "id": "6b01afd9"
      },
      "outputs": [],
      "source": [
        "age = int(input(\"Enter your age: \"))\n",
        "if age >= 18:\n",
        "    print(\"You are eligible to vote!\")\n",
        "else:\n",
        "    print(\"You are not eligible to vote.\")"
      ]
    },
    {
      "cell_type": "markdown",
      "id": "dae9b921",
      "metadata": {
        "id": "dae9b921"
      },
      "source": [
        "## 6. Looping with for\n",
        "Use a for loop to iterate over a sequence."
      ]
    },
    {
      "cell_type": "code",
      "execution_count": null,
      "id": "1061c9de",
      "metadata": {
        "id": "1061c9de"
      },
      "outputs": [],
      "source": [
        "for i in range(1, 5):\n",
        "    print(i)"
      ]
    },
    {
      "cell_type": "markdown",
      "id": "3e957ee9",
      "metadata": {
        "id": "3e957ee9"
      },
      "source": [
        "## 7. Looping with while\n",
        "Use a while loop to repeat an action until a condition is no longer true."
      ]
    },
    {
      "cell_type": "code",
      "execution_count": null,
      "id": "8a0843d3",
      "metadata": {
        "id": "8a0843d3"
      },
      "outputs": [],
      "source": [
        "count = 5\n",
        "while count > 0:\n",
        "    print(count)\n",
        "    count -= 1\n"
      ]
    },
    {
      "cell_type": "markdown",
      "id": "9de3579e",
      "metadata": {
        "id": "9de3579e"
      },
      "source": [
        "## 8. Defining Functions\n",
        "Functions allow you to reuse code and make programs modular."
      ]
    },
    {
      "cell_type": "code",
      "execution_count": null,
      "id": "80e2aa51",
      "metadata": {
        "id": "80e2aa51"
      },
      "outputs": [],
      "source": [
        "def greet(x):\n",
        "    print(f\"Hello, {x}!\")\n",
        "\n",
        "greet(\"Alice\")\n",
        "\n",
        "y=\"Jozef\"\n",
        "greet(y)"
      ]
    },
    {
      "cell_type": "markdown",
      "id": "9e17e3bc",
      "metadata": {
        "id": "9e17e3bc"
      },
      "source": [
        "## 9. Lists\n",
        "Lists are used to store multiple items in a single variable."
      ]
    },
    {
      "cell_type": "code",
      "execution_count": null,
      "id": "ba827626",
      "metadata": {
        "id": "ba827626"
      },
      "outputs": [],
      "source": [
        "x=\"bananna\"\n",
        "fruits = [\"apple\", x, \"cherry\"]\n",
        "print(fruits)\n",
        "\n",
        "fruits.append(\"orange\")\n",
        "print(\"Updated list:\", fruits)"
      ]
    },
    {
      "cell_type": "markdown",
      "id": "3f2bd5a3",
      "metadata": {
        "id": "3f2bd5a3"
      },
      "source": [
        "## 10. Dictionaries\n",
        "Dictionaries store data in key-value pairs."
      ]
    },
    {
      "cell_type": "code",
      "execution_count": null,
      "id": "eb80e8bd",
      "metadata": {
        "id": "eb80e8bd"
      },
      "outputs": [],
      "source": [
        "student = {\"name\": \"Alice\", \"age\": 25, \"is_student\": True}\n",
        "print(student)\n",
        "print(\"Name:\", student[\"name\"])"
      ]
    },
    {
      "cell_type": "markdown",
      "id": "af19e6ef",
      "metadata": {
        "id": "af19e6ef"
      },
      "source": [
        "## 11. Working with Sets\n",
        "Sets are collections of unique elements."
      ]
    },
    {
      "cell_type": "code",
      "execution_count": null,
      "id": "6401f371",
      "metadata": {
        "id": "6401f371"
      },
      "outputs": [],
      "source": [
        "numbers = [1, 2, 2, 3, 4, 4, 5]\n",
        "unique_numbers = set(numbers)\n",
        "print(\"Unique numbers:\", unique_numbers)\n",
        "\n",
        "set_a = {1, 2, 3}\n",
        "set_b = {2, 3, 4}\n",
        "print(\"Union:\", set_a | set_b)\n",
        "print(\"Intersection:\", set_a & set_b)"
      ]
    },
    {
      "cell_type": "markdown",
      "id": "3aaad2e1",
      "metadata": {
        "id": "3aaad2e1"
      },
      "source": [
        "## 12. Generating Random Data\n",
        "Python can generate random numbers for simulations or testing."
      ]
    },
    {
      "cell_type": "code",
      "execution_count": null,
      "id": "408dc3ce",
      "metadata": {
        "id": "408dc3ce"
      },
      "outputs": [],
      "source": [
        "import random\n",
        "random_numbers = [random.randint(1, 100) for _ in range(10)]\n",
        "print(\"Random Numbers:\", random_numbers)\n",
        "print(\"Average:\", sum(random_numbers) / len(random_numbers))"
      ]
    },
    {
      "cell_type": "markdown",
      "id": "bebf1d71",
      "metadata": {
        "id": "bebf1d71"
      },
      "source": [
        "## 13. Simple Timer\n",
        "Python's time module can delay execution, useful for automation."
      ]
    },
    {
      "cell_type": "code",
      "execution_count": null,
      "id": "9c9934c3",
      "metadata": {
        "id": "9c9934c3"
      },
      "outputs": [],
      "source": [
        "import time\n",
        "print(\"Timer started for 5 seconds...\")\n",
        "time.sleep(5)\n",
        "print(\"Time's up!\")"
      ]
    },
    {
      "cell_type": "markdown",
      "id": "4e4af90f",
      "metadata": {
        "id": "4e4af90f"
      },
      "source": [
        "## 14. NumPy Basics\n",
        "NumPy is a library for numerical computing, offering efficient array operations."
      ]
    },
    {
      "cell_type": "code",
      "execution_count": null,
      "id": "4d9fb9a9",
      "metadata": {
        "id": "4d9fb9a9"
      },
      "outputs": [],
      "source": [
        "import numpy as np\n",
        "array = np.array([1, 2, 3, 4, 5])\n",
        "print(\"Array:\", array)\n",
        "print(\"Mean:\", np.mean(array))\n",
        "print(\"Standard Deviation:\", np.std(array))"
      ]
    },
    {
      "cell_type": "markdown",
      "id": "e2a4fbde",
      "metadata": {
        "id": "e2a4fbde"
      },
      "source": [
        "## 15. Pandas DataFrame\n",
        "Pandas simplifies working with tabular data."
      ]
    },
    {
      "cell_type": "code",
      "execution_count": null,
      "id": "1e76d56d",
      "metadata": {
        "id": "1e76d56d"
      },
      "outputs": [],
      "source": [
        "import pandas as pd\n",
        "data = {\"Name\": [\"Alice\", \"Bob\", \"Charlie\"], \"Age\": [25, 30, 35], \"Score\": [85, 90, 95]}\n",
        "df = pd.DataFrame(data)\n",
        "print(df)"
      ]
    },
    {
      "cell_type": "markdown",
      "id": "c9af8763",
      "metadata": {
        "id": "c9af8763"
      },
      "source": [
        "## 16. DataFrame Operations\n",
        "Perform calculations and filtering with DataFrames."
      ]
    },
    {
      "cell_type": "code",
      "execution_count": null,
      "id": "860b3ee8",
      "metadata": {
        "id": "860b3ee8"
      },
      "outputs": [],
      "source": [
        "average_score = df[\"Score\"].mean()\n",
        "print(\"Average Score:\", average_score)\n",
        "print(\"People above 30:\", df[df[\"Age\"] > 30])"
      ]
    },
    {
      "cell_type": "markdown",
      "id": "39883117",
      "metadata": {
        "id": "39883117"
      },
      "source": [
        "## 17. Plotting with Matplotlib\n",
        "Matplotlib creates visualizations like bar charts and line graphs."
      ]
    },
    {
      "cell_type": "code",
      "execution_count": null,
      "id": "a3eb9c09",
      "metadata": {
        "id": "a3eb9c09"
      },
      "outputs": [],
      "source": [
        "!pip install matplotlib"
      ]
    },
    {
      "cell_type": "code",
      "execution_count": null,
      "id": "10b6043a",
      "metadata": {
        "id": "10b6043a"
      },
      "outputs": [],
      "source": [
        "import matplotlib.pyplot as plt\n",
        "x = [1, 2, 3, 4, 5]\n",
        "y = [1, 4, 9, 16, 25]\n",
        "plt.plot(x, y)\n",
        "plt.title(\"Line Graph\")\n",
        "plt.xlabel(\"X-axis\")\n",
        "plt.ylabel(\"Y-axis\")\n",
        "plt.show()"
      ]
    },
    {
      "cell_type": "markdown",
      "id": "78c641d2",
      "metadata": {
        "id": "78c641d2"
      },
      "source": [
        "## 18. Interactive Scatter Plot\n",
        "Add labels, legends, and grids to make charts more informative."
      ]
    },
    {
      "cell_type": "code",
      "execution_count": null,
      "id": "526aa2d9",
      "metadata": {
        "id": "526aa2d9"
      },
      "outputs": [],
      "source": [
        "x = [1, 2, 3, 4, 5]\n",
        "y = [5, 7, 9, 11, 13]\n",
        "plt.scatter(x, y, label=\"Data Points\", color=\"blue\")\n",
        "plt.title(\"Interactive Scatter Plot\")\n",
        "plt.xlabel(\"X-axis\")\n",
        "plt.ylabel(\"Y-axis\")\n",
        "plt.legend()\n",
        "plt.grid(True)\n",
        "plt.show()"
      ]
    },
    {
      "cell_type": "markdown",
      "id": "38ed2971",
      "metadata": {
        "id": "38ed2971"
      },
      "source": [
        "## 19. Basic Regex Usage\n",
        "Regular expressions are used to search and manipulate text."
      ]
    },
    {
      "cell_type": "code",
      "execution_count": null,
      "id": "c68788f9",
      "metadata": {
        "id": "c68788f9"
      },
      "outputs": [],
      "source": [
        "import re\n",
        "\n",
        "# Example text containing email addresses\n",
        "text = \"Contact us at support@example.com or sales@example.org for more information.\"\n",
        "\n",
        "# Regular expression pattern to match email addresses\n",
        "pattern = r'\\b[A-Za-z0-9._%+-]+@[A-Za-z0-9.-]+\\.[A-Za-z]{2,}\\b'\n",
        "\n",
        "# Find all matches in the text\n",
        "matches = re.findall(pattern, text)\n",
        "\n",
        "# Print the email addresses found\n",
        "print(\"Email addresses found:\", matches)\n"
      ]
    },
    {
      "cell_type": "markdown",
      "id": "681c2001",
      "metadata": {
        "id": "681c2001"
      },
      "source": [
        "## 20. Sorting Dictionaries\n",
        "Sort a dictionary by its values."
      ]
    },
    {
      "cell_type": "code",
      "execution_count": null,
      "id": "96d9bf81",
      "metadata": {
        "id": "96d9bf81"
      },
      "outputs": [],
      "source": [
        "scores = {\"Alice\": 90, \"Bob\": 70, \"Charlie\": 85}\n",
        "sorted_scores = sorted(scores.items(), key=lambda x: x[1], reverse=True)\n",
        "print(\"Sorted by score (descending):\", sorted_scores)"
      ]
    },
    {
      "cell_type": "markdown",
      "id": "e79ee114",
      "metadata": {
        "id": "e79ee114"
      },
      "source": [
        "## 21. Combining Everything\n",
        "A complete example combining data analysis and visualization."
      ]
    },
    {
      "cell_type": "code",
      "execution_count": null,
      "id": "2cbb6ee4",
      "metadata": {
        "id": "2cbb6ee4"
      },
      "outputs": [],
      "source": [
        "data = {\"Product A\": 50, \"Product B\": 70, \"Product C\": 30}\n",
        "percentages = {k: v / sum(data.values()) * 100 for k, v in data.items()}\n",
        "\n",
        "plt.bar(percentages.keys(), percentages.values())\n",
        "plt.title(\"Product Sales Percentage\")\n",
        "plt.show()"
      ]
    },
    {
      "cell_type": "markdown",
      "id": "574c7557",
      "metadata": {
        "id": "574c7557"
      },
      "source": [
        "## 22. NumPy Random Array\n",
        "Demonstrating random array generation and operations in NumPy."
      ]
    },
    {
      "cell_type": "code",
      "execution_count": null,
      "id": "85be3496",
      "metadata": {
        "id": "85be3496"
      },
      "outputs": [],
      "source": [
        "import numpy as np\n",
        "\n",
        "# Generate a random 3x3 array with integers between 1 and 100\n",
        "random_array = np.random.randint(1, 101, size=(3, 3))\n",
        "\n",
        "# Print the random array\n",
        "print(\"Random Array:\")\n",
        "print(random_array)\n",
        "\n",
        "# Print the sum of all elements in the array\n",
        "print(\"Sum of elements:\", np.sum(random_array))\n"
      ]
    },
    {
      "cell_type": "markdown",
      "id": "0860d815",
      "metadata": {
        "id": "0860d815"
      },
      "source": [
        "## 23. Filtering Data with Pandas\n",
        "Learn to filter data and analyze it with Pandas."
      ]
    },
    {
      "cell_type": "code",
      "execution_count": null,
      "id": "ec9e5ed0",
      "metadata": {
        "id": "ec9e5ed0"
      },
      "outputs": [],
      "source": [
        "import pandas as pd\n",
        "\n",
        "# Create a sample DataFrame\n",
        "data = {\n",
        "    \"Name\": [\"Alice\", \"Bob\", \"Charlie\", \"David\", \"Eva\"],\n",
        "    \"Score\": [88, 72, 90, 67, 95]\n",
        "}\n",
        "\n",
        "\n",
        "df = pd.DataFrame(data)\n",
        "# Filter rows where the 'Score' column is greater than 85\n",
        "filtered_data = df[df[\"Score\"] > 85]\n",
        "\n",
        "# Print the filtered DataFrame\n",
        "print(\"Filtered Data:\")\n",
        "print(filtered_data)\n"
      ]
    },
    {
      "cell_type": "markdown",
      "id": "163ba2b2",
      "metadata": {
        "id": "163ba2b2"
      },
      "source": [
        "## 24. Simple Boolean Logic\n",
        "Explore the use of Boolean conditions and logical operators."
      ]
    },
    {
      "cell_type": "code",
      "execution_count": null,
      "id": "1985f0e0",
      "metadata": {
        "id": "1985f0e0"
      },
      "outputs": [],
      "source": [
        "a = 5\n",
        "b = 10\n",
        "print(\"a < 10 and b > 5:\", a < 10 and b > 5)\n",
        "print(\"a < 5 or b > 5:\", a < 5 or b > 5)\n",
        "print(\"not (a < 10):\", not (a < 10))"
      ]
    },
    {
      "cell_type": "markdown",
      "id": "a887c5b4",
      "metadata": {
        "id": "a887c5b4"
      },
      "source": [
        "## 25. Data Visualization with Pandas\n",
        "Using Pandas for quick and simple visualizations."
      ]
    },
    {
      "cell_type": "code",
      "execution_count": null,
      "id": "d7103dd2",
      "metadata": {
        "id": "d7103dd2"
      },
      "outputs": [],
      "source": [
        "data_viz = {\"Year\": [2020, 2021, 2022], \"Sales\": [200, 250, 300]}\n",
        "df_viz = pd.DataFrame(data_viz)\n",
        "df_viz.plot(x=\"Year\", y=\"Sales\", kind=\"bar\", title=\"Yearly Sales\")\n",
        "plt.show()"
      ]
    },
    {
      "cell_type": "markdown",
      "id": "5f07a811",
      "metadata": {
        "id": "5f07a811"
      },
      "source": [
        "## 26. Advanced String Manipulation\n",
        "Explore string methods for cleaning and processing data."
      ]
    },
    {
      "cell_type": "code",
      "execution_count": null,
      "id": "e905a7a4",
      "metadata": {
        "id": "e905a7a4"
      },
      "outputs": [],
      "source": [
        "text = \" Python Programming Is Fun! \"\n",
        "\n",
        "# Original text\n",
        "print(\"Original Text:\", text)\n",
        "\n",
        "# Lowercase transformation\n",
        "print(\"Lowercase:\", text.lower())\n",
        "\n",
        "# Uppercase transformation\n",
        "print(\"Uppercase:\", text.upper())\n",
        "\n",
        "# Replace a word\n",
        "print(\"Replaced 'Fun' with 'Awesome':\", text.replace(\"Fun\", \"Awesome\"))\n",
        "\n",
        "# Count occurrences of a character\n",
        "print(\"Occurrences of 'i':\", text.lower().count('i'))\n",
        "\n",
        "# Check if the string starts with \"Python\" (after stripping)\n",
        "print(\"Starts with 'Python':\", text.strip().startswith(\"Python\"))\n",
        "\n",
        "# Split into words\n",
        "print(\"Split into words:\", text.strip().split())\n"
      ]
    },
    {
      "cell_type": "markdown",
      "id": "5d8af48d",
      "metadata": {
        "id": "5d8af48d"
      },
      "source": [
        "## 27. Advanced Data Filtering\n",
        "Learn to filter complex conditions in Pandas."
      ]
    },
    {
      "cell_type": "code",
      "execution_count": null,
      "id": "b7436114",
      "metadata": {
        "id": "b7436114"
      },
      "outputs": [],
      "source": [
        "complex_filter = df[(df[\"Age\"] > 25) & (df[\"Score\"] < 95)]\n",
        "print(\"Filtered with multiple conditions:\", complex_filter)"
      ]
    },
    {
      "cell_type": "markdown",
      "id": "e393abee",
      "metadata": {
        "id": "e393abee"
      },
      "source": [
        "## 28. Data Analysis with Grouping\n",
        "Group data and calculate aggregates."
      ]
    },
    {
      "cell_type": "code",
      "execution_count": null,
      "id": "bdf88d77",
      "metadata": {
        "id": "bdf88d77"
      },
      "outputs": [],
      "source": [
        "data_group = {\"Name\": [\"Alice\", \"Bob\", \"Alice\", \"Bob\"], \"Score\": [85, 90, 80, 85]}\n",
        "df_group = pd.DataFrame(data_group)\n",
        "print(\"Grouped Data:\")\n",
        "print(df_group.groupby(\"Name\").mean())"
      ]
    },
    {
      "cell_type": "markdown",
      "id": "886c16c0",
      "metadata": {
        "id": "886c16c0"
      },
      "source": [
        "## 29. Data Merging in Pandas\n",
        "Combine two datasets into one."
      ]
    },
    {
      "cell_type": "code",
      "execution_count": null,
      "id": "581d1206",
      "metadata": {
        "id": "581d1206"
      },
      "outputs": [],
      "source": [
        "data1 = {\"ID\": [1, 2, 3], \"Name\": [\"Alice\", \"Bob\", \"Charlie\"]}\n",
        "data2 = {\"ID\": [1, 2, 3], \"Score\": [85, 90, 95]}\n",
        "df1 = pd.DataFrame(data1)\n",
        "df2 = pd.DataFrame(data2)\n",
        "merged_df = pd.merge(df1, df2, on=\"ID\")\n",
        "print(\"Merged DataFrame:\", merged_df)"
      ]
    },
    {
      "cell_type": "markdown",
      "id": "6518f586",
      "metadata": {
        "id": "6518f586"
      },
      "source": [
        "## 30. Creating Pie Chart\n",
        "Visualize data distribution using a pie chart."
      ]
    },
    {
      "cell_type": "code",
      "execution_count": null,
      "id": "ddc214a1",
      "metadata": {
        "id": "ddc214a1"
      },
      "outputs": [],
      "source": [
        "labels = [\"Product A\", \"Product B\", \"Product C\"]\n",
        "values = [50, 30, 20]\n",
        "plt.pie(values, labels=labels, autopct=\"%1.1f%%\")\n",
        "plt.title(\"Product Distribution\")\n",
        "plt.show()"
      ]
    },
    {
      "cell_type": "markdown",
      "id": "aa2c4726",
      "metadata": {
        "id": "aa2c4726"
      },
      "source": [
        "# Congratulations on completing the Python course examples!"
      ]
    }
  ],
  "metadata": {
    "kernelspec": {
      "display_name": "MyPythonNovember24",
      "language": "python",
      "name": "python3"
    },
    "language_info": {
      "codemirror_mode": {
        "name": "ipython",
        "version": 3
      },
      "file_extension": ".py",
      "mimetype": "text/x-python",
      "name": "python",
      "nbconvert_exporter": "python",
      "pygments_lexer": "ipython3",
      "version": "3.12.3"
    },
    "colab": {
      "provenance": []
    }
  },
  "nbformat": 4,
  "nbformat_minor": 5
}