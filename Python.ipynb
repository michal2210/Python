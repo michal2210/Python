{
 "cells": [
  {
   "cell_type": "markdown",
   "id": "c8ae543a",
   "metadata": {},
   "source": [
    "## Real-World Examples of Python Basics\n",
    "\n",
    "## Course Introduction\n",
    "Welcome to the Python course! This course is designed for beginners with no prior programming experience.\n",
    "By the end of this course, you will understand Python fundamentals, how to work with libraries, and how to apply Python to practical tasks."
   ]
  },
  {
   "cell_type": "markdown",
   "id": "5e375fa4",
   "metadata": {},
   "source": [
    "## 1. Hello, World!\n",
    "The first program every beginner writes is \"Hello, World!\".\n",
    "It demonstrates how to use the print() function."
   ]
  },
  {
   "cell_type": "code",
   "execution_count": null,
   "id": "5da08942",
   "metadata": {},
   "outputs": [],
   "source": [
    "print(\"Hello, Python!\")"
   ]
  },
  {
   "cell_type": "markdown",
   "id": "f0cd4d7f",
   "metadata": {},
   "source": [
    "## 2. Variables and Data Types\n",
    "Variables are used to store data. Python supports various data types such as strings, integers, and booleans."
   ]
  },
  {
   "cell_type": "code",
   "execution_count": 8,
   "id": "148cff28",
   "metadata": {},
   "outputs": [
    {
     "name": "stdout",
     "output_type": "stream",
     "text": [
      "Name: Alice, Age: 25, Is Student: True\n"
     ]
    }
   ],
   "source": [
    "name = \"Alice\"  # String\n",
    "age = 25         # Integer\n",
    "is_student = True  # Boolean\n",
    "\n",
    "print(f\"Name: {name}, Age: {age}, Is Student: {is_student}\")"
   ]
  },
  {
   "cell_type": "markdown",
   "id": "abd9c4ae",
   "metadata": {},
   "source": [
    "## 3. Arithmetic Operations\n",
    "Python can perform basic arithmetic operations like addition, subtraction, multiplication, and division."
   ]
  },
  {
   "cell_type": "code",
   "execution_count": 9,
   "id": "dae0776a",
   "metadata": {},
   "outputs": [
    {
     "name": "stdout",
     "output_type": "stream",
     "text": [
      "Addition: 13\n",
      "Subtraction: 7\n",
      "Multiplication: 30\n",
      "Division: 3.3333333333333335\n"
     ]
    }
   ],
   "source": [
    "a = 10\n",
    "b = 3\n",
    "print(\"Addition:\", a + b)\n",
    "print(\"Subtraction:\", a - b)\n",
    "print(\"Multiplication:\", a * b)\n",
    "print(\"Division:\", a / b)"
   ]
  },
  {
   "cell_type": "markdown",
   "id": "cd1c03e7",
   "metadata": {},
   "source": [
    "## 4. Input from the User\n",
    "Python's input() function allows you to collect input from the user."
   ]
  },
  {
   "cell_type": "code",
   "execution_count": null,
   "id": "f986d42f",
   "metadata": {},
   "outputs": [],
   "source": [
    "name = input(\"What is your name? \")\n",
    "print(f\"Hello, {name}!\")"
   ]
  },
  {
   "cell_type": "markdown",
   "id": "5fad48b1",
   "metadata": {},
   "source": [
    "## 5. Conditional Statements\n",
    "Use if-else statements to execute code based on a condition."
   ]
  },
  {
   "cell_type": "code",
   "execution_count": 1,
   "id": "6b01afd9",
   "metadata": {},
   "outputs": [
    {
     "name": "stdout",
     "output_type": "stream",
     "text": [
      "You are not eligible to vote.\n"
     ]
    }
   ],
   "source": [
    "age = int(input(\"Enter your age: \"))\n",
    "if age >= 18:\n",
    "    print(\"You are eligible to vote!\")\n",
    "else:\n",
    "    print(\"You are not eligible to vote.\")"
   ]
  },
  {
   "cell_type": "markdown",
   "id": "dae9b921",
   "metadata": {},
   "source": [
    "## 6. Looping with for\n",
    "Use a for loop to iterate over a sequence."
   ]
  },
  {
   "cell_type": "code",
   "execution_count": 34,
   "id": "1061c9de",
   "metadata": {},
   "outputs": [
    {
     "name": "stdout",
     "output_type": "stream",
     "text": [
      "1\n",
      "2\n",
      "3\n",
      "4\n"
     ]
    }
   ],
   "source": [
    "for i in range(1, 5):\n",
    "    print(i)"
   ]
  },
  {
   "cell_type": "markdown",
   "id": "3e957ee9",
   "metadata": {},
   "source": [
    "## 7. Looping with while\n",
    "Use a while loop to repeat an action until a condition is no longer true."
   ]
  },
  {
   "cell_type": "code",
   "execution_count": 3,
   "id": "8a0843d3",
   "metadata": {},
   "outputs": [
    {
     "name": "stdout",
     "output_type": "stream",
     "text": [
      "5\n",
      "4\n",
      "3\n",
      "2\n",
      "1\n"
     ]
    }
   ],
   "source": [
    "count = 5\n",
    "while count > 0:\n",
    "    print(count)\n",
    "    count -= 1"
   ]
  },
  {
   "cell_type": "markdown",
   "id": "9de3579e",
   "metadata": {},
   "source": [
    "## 8. Defining Functions\n",
    "Functions allow you to reuse code and make programs modular."
   ]
  },
  {
   "cell_type": "code",
   "execution_count": 4,
   "id": "80e2aa51",
   "metadata": {},
   "outputs": [
    {
     "name": "stdout",
     "output_type": "stream",
     "text": [
      "Hello, Alice!\n"
     ]
    }
   ],
   "source": [
    "def greet(name):\n",
    "    print(f\"Hello, {name}!\")\n",
    "\n",
    "greet(\"Alice\")"
   ]
  },
  {
   "cell_type": "markdown",
   "id": "9e17e3bc",
   "metadata": {},
   "source": [
    "## 9. Lists\n",
    "Lists are used to store multiple items in a single variable."
   ]
  },
  {
   "cell_type": "code",
   "execution_count": 5,
   "id": "ba827626",
   "metadata": {},
   "outputs": [
    {
     "name": "stdout",
     "output_type": "stream",
     "text": [
      "['apple', 'banana', 'cherry']\n",
      "Updated list: ['apple', 'banana', 'cherry', 'orange']\n"
     ]
    }
   ],
   "source": [
    "fruits = [\"apple\", \"banana\", \"cherry\"]\n",
    "print(fruits)\n",
    "fruits.append(\"orange\")\n",
    "print(\"Updated list:\", fruits)"
   ]
  },
  {
   "cell_type": "markdown",
   "id": "3f2bd5a3",
   "metadata": {},
   "source": [
    "## 10. Dictionaries\n",
    "Dictionaries store data in key-value pairs."
   ]
  },
  {
   "cell_type": "code",
   "execution_count": 6,
   "id": "eb80e8bd",
   "metadata": {},
   "outputs": [
    {
     "name": "stdout",
     "output_type": "stream",
     "text": [
      "{'name': 'Alice', 'age': 25, 'is_student': True}\n",
      "Name: Alice\n"
     ]
    }
   ],
   "source": [
    "student = {\"name\": \"Alice\", \"age\": 25, \"is_student\": True}\n",
    "print(student)\n",
    "print(\"Name:\", student[\"name\"])"
   ]
  },
  {
   "cell_type": "markdown",
   "id": "af19e6ef",
   "metadata": {},
   "source": [
    "## 11. Working with Sets\n",
    "Sets are collections of unique elements."
   ]
  },
  {
   "cell_type": "code",
   "execution_count": 7,
   "id": "6401f371",
   "metadata": {},
   "outputs": [
    {
     "name": "stdout",
     "output_type": "stream",
     "text": [
      "Unique numbers: {1, 2, 3, 4, 5}\n",
      "Union: {1, 2, 3, 4}\n",
      "Intersection: {2, 3}\n"
     ]
    }
   ],
   "source": [
    "numbers = [1, 2, 2, 3, 4, 4, 5]\n",
    "unique_numbers = set(numbers)\n",
    "print(\"Unique numbers:\", unique_numbers)\n",
    "\n",
    "set_a = {1, 2, 3}\n",
    "set_b = {2, 3, 4}\n",
    "print(\"Union:\", set_a | set_b)\n",
    "print(\"Intersection:\", set_a & set_b)"
   ]
  },
  {
   "cell_type": "markdown",
   "id": "3aaad2e1",
   "metadata": {},
   "source": [
    "## 12. Generating Random Data\n",
    "Python can generate random numbers for simulations or testing."
   ]
  },
  {
   "cell_type": "code",
   "execution_count": 8,
   "id": "408dc3ce",
   "metadata": {},
   "outputs": [
    {
     "name": "stdout",
     "output_type": "stream",
     "text": [
      "Random Numbers: [35, 18, 10, 34, 68, 70, 53, 42, 51, 8]\n",
      "Average: 38.9\n"
     ]
    }
   ],
   "source": [
    "import random\n",
    "random_numbers = [random.randint(1, 100) for _ in range(10)]\n",
    "print(\"Random Numbers:\", random_numbers)\n",
    "print(\"Average:\", sum(random_numbers) / len(random_numbers))"
   ]
  },
  {
   "cell_type": "markdown",
   "id": "bebf1d71",
   "metadata": {},
   "source": [
    "## 13. Simple Timer\n",
    "Python's time module can delay execution, useful for automation."
   ]
  },
  {
   "cell_type": "code",
   "execution_count": 9,
   "id": "9c9934c3",
   "metadata": {},
   "outputs": [
    {
     "name": "stdout",
     "output_type": "stream",
     "text": [
      "Timer started for 5 seconds...\n",
      "Time's up!\n"
     ]
    }
   ],
   "source": [
    "import time\n",
    "print(\"Timer started for 5 seconds...\")\n",
    "time.sleep(5)\n",
    "print(\"Time's up!\")"
   ]
  },
  {
   "cell_type": "markdown",
   "id": "4e4af90f",
   "metadata": {},
   "source": [
    "## 14. NumPy Basics\n",
    "NumPy is a library for numerical computing, offering efficient array operations."
   ]
  },
  {
   "cell_type": "code",
   "execution_count": 10,
   "id": "4d9fb9a9",
   "metadata": {},
   "outputs": [
    {
     "name": "stdout",
     "output_type": "stream",
     "text": [
      "Array: [1 2 3 4 5]\n",
      "Mean: 3.0\n",
      "Standard Deviation: 1.4142135623730951\n"
     ]
    }
   ],
   "source": [
    "import numpy as np\n",
    "array = np.array([1, 2, 3, 4, 5])\n",
    "print(\"Array:\", array)\n",
    "print(\"Mean:\", np.mean(array))\n",
    "print(\"Standard Deviation:\", np.std(array))"
   ]
  },
  {
   "cell_type": "markdown",
   "id": "e2a4fbde",
   "metadata": {},
   "source": [
    "## 15. Pandas DataFrame\n",
    "Pandas simplifies working with tabular data."
   ]
  },
  {
   "cell_type": "code",
   "execution_count": 11,
   "id": "1e76d56d",
   "metadata": {},
   "outputs": [
    {
     "name": "stdout",
     "output_type": "stream",
     "text": [
      "      Name  Age  Score\n",
      "0    Alice   25     85\n",
      "1      Bob   30     90\n",
      "2  Charlie   35     95\n"
     ]
    }
   ],
   "source": [
    "import pandas as pd\n",
    "data = {\"Name\": [\"Alice\", \"Bob\", \"Charlie\"], \"Age\": [25, 30, 35], \"Score\": [85, 90, 95]}\n",
    "df = pd.DataFrame(data)\n",
    "print(df)"
   ]
  },
  {
   "cell_type": "markdown",
   "id": "c9af8763",
   "metadata": {},
   "source": [
    "## 16. DataFrame Operations\n",
    "Perform calculations and filtering with DataFrames."
   ]
  },
  {
   "cell_type": "code",
   "execution_count": 12,
   "id": "860b3ee8",
   "metadata": {},
   "outputs": [
    {
     "name": "stdout",
     "output_type": "stream",
     "text": [
      "Average Score: 90.0\n",
      "People above 30:       Name  Age  Score\n",
      "2  Charlie   35     95\n"
     ]
    }
   ],
   "source": [
    "average_score = df[\"Score\"].mean()\n",
    "print(\"Average Score:\", average_score)\n",
    "print(\"People above 30:\", df[df[\"Age\"] > 30])"
   ]
  },
  {
   "cell_type": "markdown",
   "id": "39883117",
   "metadata": {},
   "source": [
    "## 17. Plotting with Matplotlib\n",
    "Matplotlib creates visualizations like bar charts and line graphs."
   ]
  },
  {
   "cell_type": "code",
   "execution_count": 15,
   "id": "a3eb9c09",
   "metadata": {},
   "outputs": [
    {
     "name": "stdout",
     "output_type": "stream",
     "text": [
      "Requirement already satisfied: matplotlib in c:\\users\\a200165366\\onedrive - deutsche telekom ag\\desktop\\mypythonnovember24\\lib\\site-packages (3.9.3)\n",
      "Requirement already satisfied: contourpy>=1.0.1 in c:\\users\\a200165366\\onedrive - deutsche telekom ag\\desktop\\mypythonnovember24\\lib\\site-packages (from matplotlib) (1.3.1)\n",
      "Requirement already satisfied: cycler>=0.10 in c:\\users\\a200165366\\onedrive - deutsche telekom ag\\desktop\\mypythonnovember24\\lib\\site-packages (from matplotlib) (0.12.1)\n",
      "Requirement already satisfied: fonttools>=4.22.0 in c:\\users\\a200165366\\onedrive - deutsche telekom ag\\desktop\\mypythonnovember24\\lib\\site-packages (from matplotlib) (4.55.3)\n",
      "Requirement already satisfied: kiwisolver>=1.3.1 in c:\\users\\a200165366\\onedrive - deutsche telekom ag\\desktop\\mypythonnovember24\\lib\\site-packages (from matplotlib) (1.4.7)\n",
      "Requirement already satisfied: numpy>=1.23 in c:\\users\\a200165366\\onedrive - deutsche telekom ag\\desktop\\mypythonnovember24\\lib\\site-packages (from matplotlib) (2.1.3)\n",
      "Requirement already satisfied: packaging>=20.0 in c:\\users\\a200165366\\onedrive - deutsche telekom ag\\desktop\\mypythonnovember24\\lib\\site-packages (from matplotlib) (24.2)\n",
      "Requirement already satisfied: pillow>=8 in c:\\users\\a200165366\\onedrive - deutsche telekom ag\\desktop\\mypythonnovember24\\lib\\site-packages (from matplotlib) (11.0.0)\n",
      "Requirement already satisfied: pyparsing>=2.3.1 in c:\\users\\a200165366\\onedrive - deutsche telekom ag\\desktop\\mypythonnovember24\\lib\\site-packages (from matplotlib) (3.2.0)\n",
      "Requirement already satisfied: python-dateutil>=2.7 in c:\\users\\a200165366\\onedrive - deutsche telekom ag\\desktop\\mypythonnovember24\\lib\\site-packages (from matplotlib) (2.9.0.post0)\n",
      "Requirement already satisfied: six>=1.5 in c:\\users\\a200165366\\onedrive - deutsche telekom ag\\desktop\\mypythonnovember24\\lib\\site-packages (from python-dateutil>=2.7->matplotlib) (1.16.0)\n"
     ]
    },
    {
     "name": "stderr",
     "output_type": "stream",
     "text": [
      "\n",
      "[notice] A new release of pip is available: 24.0 -> 24.3.1\n",
      "[notice] To update, run: python.exe -m pip install --upgrade pip\n"
     ]
    }
   ],
   "source": [
    "!pip install matplotlib"
   ]
  },
  {
   "cell_type": "code",
   "execution_count": 16,
   "id": "10b6043a",
   "metadata": {},
   "outputs": [
    {
     "name": "stderr",
     "output_type": "stream",
     "text": [
      "Matplotlib is building the font cache; this may take a moment.\n"
     ]
    },
    {
     "data": {
      "image/png": "[encoded data removed]",
      "text/plain": [
       "<Figure size 640x480 with 1 Axes>"
      ]
     },
     "metadata": {},
     "output_type": "display_data"
    }
   ],
   "source": [
    "import matplotlib.pyplot as plt\n",
    "x = [1, 2, 3, 4, 5]\n",
    "y = [1, 4, 9, 16, 25]\n",
    "plt.plot(x, y)\n",
    "plt.title(\"Line Graph\")\n",
    "plt.xlabel(\"X-axis\")\n",
    "plt.ylabel(\"Y-axis\")\n",
    "plt.show()"
   ]
  },
  {
   "cell_type": "markdown",
   "id": "78c641d2",
   "metadata": {},
   "source": [
    "## 18. Interactive Scatter Plot\n",
    "Add labels, legends, and grids to make charts more informative."
   ]
  },
  {
   "cell_type": "code",
   "execution_count": 17,
   "id": "526aa2d9",
   "metadata": {},
   "outputs": [
    {
     "data": {
      "image/png": "[encoded data removed]",
      "text/plain": [
       "<Figure size 640x480 with 1 Axes>"
      ]
     },
     "metadata": {},
     "output_type": "display_data"
    }
   ],
   "source": [
    "x = [1, 2, 3, 4, 5]\n",
    "y = [5, 7, 9, 11, 13]\n",
    "plt.scatter(x, y, label=\"Data Points\", color=\"blue\")\n",
    "plt.title(\"Interactive Scatter Plot\")\n",
    "plt.xlabel(\"X-axis\")\n",
    "plt.ylabel(\"Y-axis\")\n",
    "plt.legend()\n",
    "plt.grid(True)\n",
    "plt.show()"
   ]
  },
  {
   "cell_type": "markdown",
   "id": "38ed2971",
   "metadata": {},
   "source": [
    "## 19. Basic Regex Usage\n",
    "Regular expressions are used to search and manipulate text."
   ]
  },
  {
   "cell_type": "code",
   "execution_count": 18,
   "id": "c68788f9",
   "metadata": {},
   "outputs": [
    {
     "name": "stdout",
     "output_type": "stream",
     "text": [
      "Email addresses found: ['support@example.com', 'sales@example.org']\n"
     ]
    }
   ],
   "source": [
    "import re\n",
    "\n",
    "# Example text containing email addresses\n",
    "text = \"Contact us at support@example.com or sales@example.org for more information.\"\n",
    "\n",
    "# Regular expression pattern to match email addresses\n",
    "pattern = r'\\b[A-Za-z0-9._%+-]+@[A-Za-z0-9.-]+\\.[A-Za-z]{2,}\\b'\n",
    "\n",
    "# Find all matches in the text\n",
    "matches = re.findall(pattern, text)\n",
    "\n",
    "# Print the email addresses found\n",
    "print(\"Email addresses found:\", matches)\n"
   ]
  },
  {
   "cell_type": "markdown",
   "id": "681c2001",
   "metadata": {},
   "source": [
    "## 20. Sorting Dictionaries\n",
    "Sort a dictionary by its values."
   ]
  },
  {
   "cell_type": "code",
   "execution_count": 19,
   "id": "96d9bf81",
   "metadata": {},
   "outputs": [
    {
     "name": "stdout",
     "output_type": "stream",
     "text": [
      "Sorted by score (descending): [('Alice', 90), ('Charlie', 85), ('Bob', 70)]\n"
     ]
    }
   ],
   "source": [
    "scores = {\"Alice\": 90, \"Bob\": 70, \"Charlie\": 85}\n",
    "sorted_scores = sorted(scores.items(), key=lambda x: x[1], reverse=True)\n",
    "print(\"Sorted by score (descending):\", sorted_scores)"
   ]
  },
  {
   "cell_type": "markdown",
   "id": "e79ee114",
   "metadata": {},
   "source": [
    "## 21. Combining Everything\n",
    "A complete example combining data analysis and visualization."
   ]
  },
  {
   "cell_type": "code",
   "execution_count": 20,
   "id": "2cbb6ee4",
   "metadata": {},
   "outputs": [
    {
     "data": {
      "image/png": "[encoded data removed]",
      "text/plain": [
       "<Figure size 640x480 with 1 Axes>"
      ]
     },
     "metadata": {},
     "output_type": "display_data"
    }
   ],
   "source": [
    "data = {\"Product A\": 50, \"Product B\": 70, \"Product C\": 30}\n",
    "percentages = {k: v / sum(data.values()) * 100 for k, v in data.items()}\n",
    "\n",
    "plt.bar(percentages.keys(), percentages.values())\n",
    "plt.title(\"Product Sales Percentage\")\n",
    "plt.show()"
   ]
  },
  {
   "cell_type": "markdown",
   "id": "574c7557",
   "metadata": {},
   "source": [
    "## 22. NumPy Random Array\n",
    "Demonstrating random array generation and operations in NumPy."
   ]
  },
  {
   "cell_type": "code",
   "execution_count": 21,
   "id": "85be3496",
   "metadata": {},
   "outputs": [
    {
     "name": "stdout",
     "output_type": "stream",
     "text": [
      "Random Array:\n",
      "[[65 52 60]\n",
      " [79 66 83]\n",
      " [67 92 22]]\n",
      "Sum of elements: 586\n"
     ]
    }
   ],
   "source": [
    "import numpy as np\n",
    "\n",
    "# Generate a random 3x3 array with integers between 1 and 100\n",
    "random_array = np.random.randint(1, 101, size=(3, 3))\n",
    "\n",
    "# Print the random array\n",
    "print(\"Random Array:\")\n",
    "print(random_array)\n",
    "\n",
    "# Print the sum of all elements in the array\n",
    "print(\"Sum of elements:\", np.sum(random_array))\n"
   ]
  },
  {
   "cell_type": "markdown",
   "id": "0860d815",
   "metadata": {},
   "source": [
    "## 23. Filtering Data with Pandas\n",
    "Learn to filter data and analyze it with Pandas."
   ]
  },
  {
   "cell_type": "code",
   "execution_count": 5,
   "id": "ec9e5ed0",
   "metadata": {},
   "outputs": [
    {
     "name": "stdout",
     "output_type": "stream",
     "text": [
      "Filtered Data:\n",
      "      Name  Score\n",
      "0    Alice     88\n",
      "2  Charlie     90\n",
      "4      Eva     95\n"
     ]
    }
   ],
   "source": [
    "import pandas as pd\n",
    "\n",
    "# Create a sample DataFrame\n",
    "data = {\n",
    "    \"Name\": [\"Alice\", \"Bob\", \"Charlie\", \"David\", \"Eva\"],\n",
    "    \"Score\": [88, 72, 90, 67, 95]\n",
    "}\n",
    "\n",
    "\n",
    "df = pd.DataFrame(data)\n",
    "# Filter rows where the 'Score' column is greater than 85\n",
    "filtered_data = df[df[\"Score\"] > 85]\n",
    "\n",
    "# Print the filtered DataFrame\n",
    "print(\"Filtered Data:\")\n",
    "print(filtered_data)\n"
   ]
  },
  {
   "cell_type": "markdown",
   "id": "163ba2b2",
   "metadata": {},
   "source": [
    "## 24. Simple Boolean Logic\n",
    "Explore the use of Boolean conditions and logical operators."
   ]
  },
  {
   "cell_type": "code",
   "execution_count": 7,
   "id": "1985f0e0",
   "metadata": {},
   "outputs": [
    {
     "name": "stdout",
     "output_type": "stream",
     "text": [
      "a < 10 and b > 5: True\n",
      "a < 5 or b > 5: True\n",
      "not (a < 10): False\n"
     ]
    }
   ],
   "source": [
    "a = 5\n",
    "b = 10\n",
    "print(\"a < 10 and b > 5:\", a < 10 and b > 5)\n",
    "print(\"a < 5 or b > 5:\", a < 5 or b > 5)\n",
    "print(\"not (a < 10):\", not (a < 10))"
   ]
  },
  {
   "cell_type": "markdown",
   "id": "a887c5b4",
   "metadata": {},
   "source": [
    "## 25. Data Visualization with Pandas\n",
    "Using Pandas for quick and simple visualizations."
   ]
  },
  {
   "cell_type": "code",
   "execution_count": 22,
   "id": "d7103dd2",
   "metadata": {},
   "outputs": [
    {
     "data": {
      "image/png": "[encoded data removed]",
      "text/plain": [
       "<Figure size 640x480 with 1 Axes>"
      ]
     },
     "metadata": {},
     "output_type": "display_data"
    }
   ],
   "source": [
    "data_viz = {\"Year\": [2020, 2021, 2022], \"Sales\": [200, 250, 300]}\n",
    "df_viz = pd.DataFrame(data_viz)\n",
    "df_viz.plot(x=\"Year\", y=\"Sales\", kind=\"bar\", title=\"Yearly Sales\")\n",
    "plt.show()"
   ]
  },
  {
   "cell_type": "markdown",
   "id": "5f07a811",
   "metadata": {},
   "source": [
    "## 26. Advanced String Manipulation\n",
    "Explore string methods for cleaning and processing data."
   ]
  },
  {
   "cell_type": "code",
   "execution_count": 25,
   "id": "e905a7a4",
   "metadata": {},
   "outputs": [
    {
     "name": "stdout",
     "output_type": "stream",
     "text": [
      "Original Text:  Python Programming Is Fun! \n",
      "Lowercase:  python programming is fun! \n",
      "Uppercase:  PYTHON PROGRAMMING IS FUN! \n",
      "Replaced 'Fun' with 'Awesome':  Python Programming Is Awesome! \n",
      "Occurrences of 'i': 2\n",
      "Starts with 'Python': True\n",
      "Split into words: ['Python', 'Programming', 'Is', 'Fun!']\n"
     ]
    }
   ],
   "source": [
    "text = \" Python Programming Is Fun! \"\n",
    "\n",
    "# Original text\n",
    "print(\"Original Text:\", text)\n",
    "\n",
    "# Lowercase transformation\n",
    "print(\"Lowercase:\", text.lower())\n",
    "\n",
    "# Uppercase transformation\n",
    "print(\"Uppercase:\", text.upper())\n",
    "\n",
    "# Replace a word\n",
    "print(\"Replaced 'Fun' with 'Awesome':\", text.replace(\"Fun\", \"Awesome\"))\n",
    "\n",
    "# Count occurrences of a character\n",
    "print(\"Occurrences of 'i':\", text.lower().count('i'))\n",
    "\n",
    "# Check if the string starts with \"Python\" (after stripping)\n",
    "print(\"Starts with 'Python':\", text.strip().startswith(\"Python\"))\n",
    "\n",
    "# Split into words\n",
    "print(\"Split into words:\", text.strip().split())\n"
   ]
  },
  {
   "cell_type": "markdown",
   "id": "5d8af48d",
   "metadata": {},
   "source": [
    "## 27. Advanced Data Filtering\n",
    "Learn to filter complex conditions in Pandas."
   ]
  },
  {
   "cell_type": "code",
   "execution_count": 26,
   "id": "b7436114",
   "metadata": {},
   "outputs": [
    {
     "name": "stdout",
     "output_type": "stream",
     "text": [
      "Filtered with multiple conditions:   Name  Age  Score\n",
      "1  Bob   30     90\n"
     ]
    }
   ],
   "source": [
    "complex_filter = df[(df[\"Age\"] > 25) & (df[\"Score\"] < 95)]\n",
    "print(\"Filtered with multiple conditions:\", complex_filter)"
   ]
  },
  {
   "cell_type": "markdown",
   "id": "e393abee",
   "metadata": {},
   "source": [
    "## 28. Data Analysis with Grouping\n",
    "Group data and calculate aggregates."
   ]
  },
  {
   "cell_type": "code",
   "execution_count": 27,
   "id": "bdf88d77",
   "metadata": {},
   "outputs": [
    {
     "name": "stdout",
     "output_type": "stream",
     "text": [
      "Grouped Data:\n",
      "       Score\n",
      "Name        \n",
      "Alice   82.5\n",
      "Bob     87.5\n"
     ]
    }
   ],
   "source": [
    "data_group = {\"Name\": [\"Alice\", \"Bob\", \"Alice\", \"Bob\"], \"Score\": [85, 90, 80, 85]}\n",
    "df_group = pd.DataFrame(data_group)\n",
    "print(\"Grouped Data:\")\n",
    "print(df_group.groupby(\"Name\").mean())"
   ]
  },
  {
   "cell_type": "markdown",
   "id": "886c16c0",
   "metadata": {},
   "source": [
    "## 29. Data Merging in Pandas\n",
    "Combine two datasets into one."
   ]
  },
  {
   "cell_type": "code",
   "execution_count": 28,
   "id": "581d1206",
   "metadata": {},
   "outputs": [
    {
     "name": "stdout",
     "output_type": "stream",
     "text": [
      "Merged DataFrame:    ID     Name  Score\n",
      "0   1    Alice     85\n",
      "1   2      Bob     90\n",
      "2   3  Charlie     95\n"
     ]
    }
   ],
   "source": [
    "data1 = {\"ID\": [1, 2, 3], \"Name\": [\"Alice\", \"Bob\", \"Charlie\"]}\n",
    "data2 = {\"ID\": [1, 2, 3], \"Score\": [85, 90, 95]}\n",
    "df1 = pd.DataFrame(data1)\n",
    "df2 = pd.DataFrame(data2)\n",
    "merged_df = pd.merge(df1, df2, on=\"ID\")\n",
    "print(\"Merged DataFrame:\", merged_df)"
   ]
  },
  {
   "cell_type": "markdown",
   "id": "6518f586",
   "metadata": {},
   "source": [
    "## 30. Creating Pie Chart\n",
    "Visualize data distribution using a pie chart."
   ]
  },
  {
   "cell_type": "code",
   "execution_count": 29,
   "id": "ddc214a1",
   "metadata": {},
   "outputs": [
    {
     "data": {
      "image/png": "[encoded data removed]",
      "text/plain": [
       "<Figure size 640x480 with 1 Axes>"
      ]
     },
     "metadata": {},
     "output_type": "display_data"
    }
   ],
   "source": [
    "labels = [\"Product A\", \"Product B\", \"Product C\"]\n",
    "values = [50, 30, 20]\n",
    "plt.pie(values, labels=labels, autopct=\"%1.1f%%\")\n",
    "plt.title(\"Product Distribution\")\n",
    "plt.show()"
   ]
  },
  {
   "cell_type": "markdown",
   "id": "aa2c4726",
   "metadata": {},
   "source": [
    "# Congratulations on completing the Python course examples!"
   ]
  }
 ],
 "metadata": {
  "kernelspec": {
   "display_name": "MyPythonNovember24",
   "language": "python",
   "name": "python3"
  },
  "language_info": {
   "codemirror_mode": {
    "name": "ipython",
    "version": 3
   },
   "file_extension": ".py",
   "mimetype": "text/x-python",
   "name": "python",
   "nbconvert_exporter": "python",
   "pygments_lexer": "ipython3",
   "version": "3.12.3"
  }
 },
 "nbformat": 4,
 "nbformat_minor": 5
}
